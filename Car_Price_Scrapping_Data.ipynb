{
 "cells": [
  {
   "cell_type": "code",
   "execution_count": 1,
   "metadata": {},
   "outputs": [],
   "source": [
    "import pandas as pd\n",
    "import numpy as np\n",
    "from selenium import webdriver\n",
    "import time \n",
    "from selenium.common.exceptions import NoSuchElementException"
   ]
  },
  {
   "cell_type": "code",
   "execution_count": 2,
   "metadata": {},
   "outputs": [],
   "source": [
    "driver = webdriver.Chrome(r\"G:\\chromedriver.exe\")"
   ]
  },
  {
   "cell_type": "code",
   "execution_count": 3,
   "metadata": {},
   "outputs": [],
   "source": [
    "#Scrapping Car Data from cars24.com\n",
    "\n",
    "url1=\"https://www.cars24.com/buy-used-car?sort=P&search=HYUNDAI&storeCityId=8597&pinId=201301\"\n",
    "driver.get(url1)"
   ]
  },
  {
   "cell_type": "code",
   "execution_count": 4,
   "metadata": {},
   "outputs": [],
   "source": [
    "ModelList=[]\n",
    "brandList=[]\n",
    "manufacturingYearList=[]\n",
    "variantList=[]\n",
    "KmDrivenList=[]\n",
    "ownerList=[]\n",
    "versionList=[]\n",
    "priceList=[]\n",
    "locationList=[]"
   ]
  },
  {
   "cell_type": "code",
   "execution_count": 5,
   "metadata": {},
   "outputs": [],
   "source": [
    "def scrapData(location):\n",
    "   \n",
    "    #time.sleep(5)\n",
    "    model=driver.find_elements_by_xpath(\"//div[@class='_1l4fi']/div/div/h2\")\n",
    "    for i in model:\n",
    "        #print(i.text)\n",
    "        str=i.text\n",
    "        m1=str.split(\" \" ,2)\n",
    "        model=str.split()[1]\n",
    "        #print(m1[0])\n",
    "        #print(m1[1])\n",
    "        #print(m1[2])\n",
    "        ModelList.append(m1[2])\n",
    "        manufacturingYearList.append(m1[0])\n",
    "        brandList.append(m1[1])\n",
    "\n",
    "    variant=driver.find_elements_by_xpath(\"//div[@class='_1l4fi']/div/div/p\")\n",
    "    for i in variant:\n",
    "        #print(i.text)\n",
    "        variantList.append(i.text)\n",
    "\n",
    "    Km=driver.find_elements_by_xpath(\"//div[@class='_1l4fi']/ul/li[1]\")\n",
    "    for i in Km:\n",
    "        #print(i.text)\n",
    "        str1=i.text\n",
    "        str1=str1.split()[0] \n",
    "        str1=str1.replace(\",\",\"\")\n",
    "        #print(str1)\n",
    "        str1=int(str1)\n",
    "        #print(type(str1))\n",
    "        KmDrivenList.append(str1)\n",
    "\n",
    "    owner=driver.find_elements_by_xpath(\"//div[@class='_1l4fi']/ul/li[2]\")\n",
    "    for i in owner:\n",
    "        #print(i.text)\n",
    "        ownerList.append(i.text)\n",
    "\n",
    "    version=driver.find_elements_by_xpath(\"//div[@class='_1l4fi']/ul/li[3]\")\n",
    "    for i in version:\n",
    "        #print(i.text)\n",
    "        versionList.append(i.text)  \n",
    "\n",
    "    price=driver.find_elements_by_xpath(\"//div[@class='_1l4fi']/div[2]/div[2]/span\")\n",
    "    for i in price:\n",
    "        #print(i.text)\n",
    "        str2=i.text\n",
    "        str2=str2[1:]\n",
    "        \n",
    "        str2=str2.replace(\",\",\"\")\n",
    "        #print(str2)\n",
    "        str1=int(str2)\n",
    "        #print(type(str2))\n",
    "    \n",
    "        priceList.append(str2) \n",
    "        locationList.append(location)"
   ]
  },
  {
   "cell_type": "code",
   "execution_count": 6,
   "metadata": {},
   "outputs": [],
   "source": [
    "scrapData(\"Noida\")"
   ]
  },
  {
   "cell_type": "code",
   "execution_count": 7,
   "metadata": {},
   "outputs": [
    {
     "name": "stdout",
     "output_type": "stream",
     "text": [
      "565\n",
      "565\n",
      "565\n",
      "565\n",
      "565\n",
      "565\n",
      "565\n",
      "565\n",
      "565\n"
     ]
    }
   ],
   "source": [
    "print(len(ModelList))\n",
    "print(len(brandList))\n",
    "print(len(manufacturingYearList))\n",
    "print(len(variantList))\n",
    "print(len(KmDrivenList))\n",
    "print(len(ownerList))\n",
    "print(len(versionList))\n",
    "print(len(priceList))\n",
    "print(len(locationList))"
   ]
  },
  {
   "cell_type": "code",
   "execution_count": 8,
   "metadata": {},
   "outputs": [],
   "source": [
    "url=\"https://www.cars24.com/buy-used-car?carName=RENAULT&sort=P&storeCityId=4709&pinId=560001\"\n",
    "driver.get(url)"
   ]
  },
  {
   "cell_type": "code",
   "execution_count": 9,
   "metadata": {},
   "outputs": [],
   "source": [
    "scrapData(\"Bengaluru\")"
   ]
  },
  {
   "cell_type": "code",
   "execution_count": 10,
   "metadata": {},
   "outputs": [
    {
     "name": "stdout",
     "output_type": "stream",
     "text": [
      "605\n",
      "605\n",
      "605\n",
      "605\n",
      "605\n",
      "605\n",
      "605\n",
      "605\n",
      "605\n"
     ]
    }
   ],
   "source": [
    "print(len(ModelList))\n",
    "print(len(brandList))\n",
    "print(len(manufacturingYearList))\n",
    "print(len(variantList))\n",
    "print(len(KmDrivenList))\n",
    "print(len(ownerList))\n",
    "print(len(versionList))\n",
    "print(len(priceList))\n",
    "print(len(locationList))"
   ]
  },
  {
   "cell_type": "code",
   "execution_count": 11,
   "metadata": {},
   "outputs": [],
   "source": [
    "url=\"https://www.cars24.com/buy-used-car?carName=HYUNDAI&sort=P&storeCityId=3686&pinId=500001\"\n",
    "driver.get(url)"
   ]
  },
  {
   "cell_type": "code",
   "execution_count": 12,
   "metadata": {},
   "outputs": [],
   "source": [
    "scrapData(\"Hyderabad\")"
   ]
  },
  {
   "cell_type": "code",
   "execution_count": 13,
   "metadata": {},
   "outputs": [
    {
     "name": "stdout",
     "output_type": "stream",
     "text": [
      "699\n",
      "699\n",
      "699\n",
      "699\n",
      "699\n",
      "699\n",
      "699\n",
      "699\n",
      "699\n"
     ]
    }
   ],
   "source": [
    "print(len(ModelList))\n",
    "print(len(brandList))\n",
    "print(len(manufacturingYearList))\n",
    "print(len(variantList))\n",
    "print(len(KmDrivenList))\n",
    "print(len(ownerList))\n",
    "print(len(versionList))\n",
    "print(len(priceList))\n",
    "print(len(locationList))"
   ]
  },
  {
   "cell_type": "code",
   "execution_count": 14,
   "metadata": {},
   "outputs": [],
   "source": [
    "url=\"https://www.cars24.com/buy-used-car?carName=TOYOTA&sort=P&storeCityId=2378&pinId=400001\"\n",
    "driver.get(url)"
   ]
  },
  {
   "cell_type": "code",
   "execution_count": 19,
   "metadata": {},
   "outputs": [],
   "source": [
    "scrapData(\"Mumbai\")"
   ]
  },
  {
   "cell_type": "code",
   "execution_count": 20,
   "metadata": {},
   "outputs": [
    {
     "name": "stdout",
     "output_type": "stream",
     "text": [
      "1805\n",
      "1805\n",
      "1805\n",
      "1805\n",
      "1805\n",
      "1805\n",
      "1805\n",
      "1805\n",
      "1805\n"
     ]
    }
   ],
   "source": [
    "print(len(ModelList))\n",
    "print(len(brandList))\n",
    "print(len(manufacturingYearList))\n",
    "print(len(variantList))\n",
    "print(len(KmDrivenList))\n",
    "print(len(ownerList))\n",
    "print(len(versionList))\n",
    "print(len(priceList))\n",
    "print(len(locationList))"
   ]
  },
  {
   "cell_type": "code",
   "execution_count": 17,
   "metadata": {},
   "outputs": [],
   "source": [
    "url=\"https://www.cars24.com/buy-used-maruti-cars-kolkata/\"\n",
    "driver.get(url)"
   ]
  },
  {
   "cell_type": "code",
   "execution_count": 18,
   "metadata": {},
   "outputs": [],
   "source": [
    "scrapData(\"Kolkata\")"
   ]
  },
  {
   "cell_type": "code",
   "execution_count": 21,
   "metadata": {},
   "outputs": [
    {
     "name": "stdout",
     "output_type": "stream",
     "text": [
      "1805\n",
      "1805\n",
      "1805\n",
      "1805\n",
      "1805\n",
      "1805\n",
      "1805\n",
      "1805\n",
      "1805\n"
     ]
    }
   ],
   "source": [
    "print(len(ModelList))\n",
    "print(len(brandList))\n",
    "print(len(manufacturingYearList))\n",
    "print(len(variantList))\n",
    "print(len(KmDrivenList))\n",
    "print(len(ownerList))\n",
    "print(len(versionList))\n",
    "print(len(priceList))\n",
    "print(len(locationList))"
   ]
  },
  {
   "cell_type": "code",
   "execution_count": 22,
   "metadata": {},
   "outputs": [],
   "source": [
    "url=\"https://www.cars24.com/buy-used-hyundai-cars-kolkata/\"\n",
    "driver.get(url)"
   ]
  },
  {
   "cell_type": "code",
   "execution_count": 23,
   "metadata": {},
   "outputs": [],
   "source": [
    "scrapData(\"Kolkata\")"
   ]
  },
  {
   "cell_type": "code",
   "execution_count": 24,
   "metadata": {},
   "outputs": [
    {
     "name": "stdout",
     "output_type": "stream",
     "text": [
      "2300\n",
      "2300\n",
      "2300\n",
      "2300\n",
      "2300\n",
      "2300\n",
      "2300\n",
      "2300\n",
      "2300\n"
     ]
    }
   ],
   "source": [
    "print(len(ModelList))\n",
    "print(len(brandList))\n",
    "print(len(manufacturingYearList))\n",
    "print(len(variantList))\n",
    "print(len(KmDrivenList))\n",
    "print(len(ownerList))\n",
    "print(len(versionList))\n",
    "print(len(priceList))\n",
    "print(len(locationList))"
   ]
  },
  {
   "cell_type": "code",
   "execution_count": 25,
   "metadata": {},
   "outputs": [],
   "source": [
    "url=\"https://www.cars24.com/buy-used-car?carName=MAHINDRA&sort=P&storeCityId=4709&pinId=560001\"\n",
    "driver.get(url)"
   ]
  },
  {
   "cell_type": "code",
   "execution_count": 26,
   "metadata": {},
   "outputs": [],
   "source": [
    "scrapData(\"Bengaluru\")"
   ]
  },
  {
   "cell_type": "code",
   "execution_count": 27,
   "metadata": {},
   "outputs": [
    {
     "name": "stdout",
     "output_type": "stream",
     "text": [
      "2314\n",
      "2314\n",
      "2314\n",
      "2314\n",
      "2314\n",
      "2314\n",
      "2314\n",
      "2314\n",
      "2314\n"
     ]
    }
   ],
   "source": [
    "print(len(ModelList))\n",
    "print(len(brandList))\n",
    "print(len(manufacturingYearList))\n",
    "print(len(variantList))\n",
    "print(len(KmDrivenList))\n",
    "print(len(ownerList))\n",
    "print(len(versionList))\n",
    "print(len(priceList))\n",
    "print(len(locationList))"
   ]
  },
  {
   "cell_type": "code",
   "execution_count": 28,
   "metadata": {},
   "outputs": [],
   "source": [
    "url=\"https://www.cars24.com/buy-used-maruti-cars-bengaluru/\"\n",
    "driver.get(url)"
   ]
  },
  {
   "cell_type": "code",
   "execution_count": 29,
   "metadata": {},
   "outputs": [],
   "source": [
    "scrapData(\"Bengaluru\")"
   ]
  },
  {
   "cell_type": "code",
   "execution_count": 30,
   "metadata": {},
   "outputs": [
    {
     "name": "stdout",
     "output_type": "stream",
     "text": [
      "2721\n",
      "2721\n",
      "2721\n",
      "2721\n",
      "2721\n",
      "2721\n",
      "2721\n",
      "2721\n",
      "2721\n"
     ]
    }
   ],
   "source": [
    "print(len(ModelList))\n",
    "print(len(brandList))\n",
    "print(len(manufacturingYearList))\n",
    "print(len(variantList))\n",
    "print(len(KmDrivenList))\n",
    "print(len(ownerList))\n",
    "print(len(versionList))\n",
    "print(len(priceList))\n",
    "print(len(locationList))"
   ]
  },
  {
   "cell_type": "code",
   "execution_count": 31,
   "metadata": {},
   "outputs": [],
   "source": [
    "url=\"https://www.cars24.com/buy-used-car?carName=MARUTI&sort=P&storeCityId=2378&pinId=400001\"\n",
    "driver.get(url)"
   ]
  },
  {
   "cell_type": "code",
   "execution_count": 32,
   "metadata": {},
   "outputs": [],
   "source": [
    "scrapData(\"Mumbai\")"
   ]
  },
  {
   "cell_type": "code",
   "execution_count": 33,
   "metadata": {},
   "outputs": [
    {
     "name": "stdout",
     "output_type": "stream",
     "text": [
      "3601\n",
      "3601\n",
      "3601\n",
      "3601\n",
      "3601\n",
      "3601\n",
      "3601\n",
      "3601\n",
      "3601\n"
     ]
    }
   ],
   "source": [
    "print(len(ModelList))\n",
    "print(len(brandList))\n",
    "print(len(manufacturingYearList))\n",
    "print(len(variantList))\n",
    "print(len(KmDrivenList))\n",
    "print(len(ownerList))\n",
    "print(len(versionList))\n",
    "print(len(priceList))\n",
    "print(len(locationList))"
   ]
  },
  {
   "cell_type": "code",
   "execution_count": 34,
   "metadata": {},
   "outputs": [],
   "source": [
    "df=pd.DataFrame({})\n",
    "df['Brand']=brandList\n",
    "df['Model']=ModelList\n",
    "\n",
    "df['Year']=manufacturingYearList\n",
    "df['Variant']=variantList\n",
    "df['Location']=locationList\n",
    "df['version']=versionList\n",
    "df['Number of Owners']=ownerList\n",
    "df['KmDriven']=KmDrivenList\n",
    "df['Price']=priceList"
   ]
  },
  {
   "cell_type": "code",
   "execution_count": 35,
   "metadata": {},
   "outputs": [
    {
     "data": {
      "text/html": [
       "<div>\n",
       "<style scoped>\n",
       "    .dataframe tbody tr th:only-of-type {\n",
       "        vertical-align: middle;\n",
       "    }\n",
       "\n",
       "    .dataframe tbody tr th {\n",
       "        vertical-align: top;\n",
       "    }\n",
       "\n",
       "    .dataframe thead th {\n",
       "        text-align: right;\n",
       "    }\n",
       "</style>\n",
       "<table border=\"1\" class=\"dataframe\">\n",
       "  <thead>\n",
       "    <tr style=\"text-align: right;\">\n",
       "      <th></th>\n",
       "      <th>Brand</th>\n",
       "      <th>Model</th>\n",
       "      <th>Year</th>\n",
       "      <th>Variant</th>\n",
       "      <th>Location</th>\n",
       "      <th>version</th>\n",
       "      <th>Number of Owners</th>\n",
       "      <th>KmDriven</th>\n",
       "      <th>Price</th>\n",
       "    </tr>\n",
       "  </thead>\n",
       "  <tbody>\n",
       "    <tr>\n",
       "      <th>0</th>\n",
       "      <td>Hyundai</td>\n",
       "      <td>Grand i10</td>\n",
       "      <td>2015</td>\n",
       "      <td>SPORTZ 1.1 CRDI Manual</td>\n",
       "      <td>Noida</td>\n",
       "      <td>Diesel</td>\n",
       "      <td>1st Owner</td>\n",
       "      <td>29895</td>\n",
       "      <td>358999</td>\n",
       "    </tr>\n",
       "    <tr>\n",
       "      <th>1</th>\n",
       "      <td>Hyundai</td>\n",
       "      <td>VENUE</td>\n",
       "      <td>2021</td>\n",
       "      <td>S MT 1.2 KAPPA</td>\n",
       "      <td>Noida</td>\n",
       "      <td>Petrol</td>\n",
       "      <td>1st Owner</td>\n",
       "      <td>2589</td>\n",
       "      <td>794699</td>\n",
       "    </tr>\n",
       "    <tr>\n",
       "      <th>2</th>\n",
       "      <td>Hyundai</td>\n",
       "      <td>Eon</td>\n",
       "      <td>2015</td>\n",
       "      <td>MAGNA PLUS Manual</td>\n",
       "      <td>Noida</td>\n",
       "      <td>Petrol</td>\n",
       "      <td>1st Owner</td>\n",
       "      <td>14940</td>\n",
       "      <td>277699</td>\n",
       "    </tr>\n",
       "    <tr>\n",
       "      <th>3</th>\n",
       "      <td>Hyundai</td>\n",
       "      <td>i20</td>\n",
       "      <td>2013</td>\n",
       "      <td>ERA 1.4 CRDI Manual</td>\n",
       "      <td>Noida</td>\n",
       "      <td>Diesel</td>\n",
       "      <td>1st Owner</td>\n",
       "      <td>32281</td>\n",
       "      <td>326899</td>\n",
       "    </tr>\n",
       "    <tr>\n",
       "      <th>4</th>\n",
       "      <td>Hyundai</td>\n",
       "      <td>Grand i10</td>\n",
       "      <td>2015</td>\n",
       "      <td>SPORTS 1.2 VTVT Manual</td>\n",
       "      <td>Noida</td>\n",
       "      <td>Petrol</td>\n",
       "      <td>1st Owner</td>\n",
       "      <td>26307</td>\n",
       "      <td>405999</td>\n",
       "    </tr>\n",
       "    <tr>\n",
       "      <th>...</th>\n",
       "      <td>...</td>\n",
       "      <td>...</td>\n",
       "      <td>...</td>\n",
       "      <td>...</td>\n",
       "      <td>...</td>\n",
       "      <td>...</td>\n",
       "      <td>...</td>\n",
       "      <td>...</td>\n",
       "      <td>...</td>\n",
       "    </tr>\n",
       "    <tr>\n",
       "      <th>3596</th>\n",
       "      <td>Maruti</td>\n",
       "      <td>Baleno</td>\n",
       "      <td>2016</td>\n",
       "      <td>DELTA 1.2 K12 Manual</td>\n",
       "      <td>Mumbai</td>\n",
       "      <td>Petrol</td>\n",
       "      <td>2nd Owner</td>\n",
       "      <td>62591</td>\n",
       "      <td>456099</td>\n",
       "    </tr>\n",
       "    <tr>\n",
       "      <th>3597</th>\n",
       "      <td>Maruti</td>\n",
       "      <td>Alto 800</td>\n",
       "      <td>2015</td>\n",
       "      <td>LXI Manual</td>\n",
       "      <td>Mumbai</td>\n",
       "      <td>Petrol</td>\n",
       "      <td>1st Owner</td>\n",
       "      <td>57014</td>\n",
       "      <td>231799</td>\n",
       "    </tr>\n",
       "    <tr>\n",
       "      <th>3598</th>\n",
       "      <td>Maruti</td>\n",
       "      <td>Alto 800</td>\n",
       "      <td>2016</td>\n",
       "      <td>LXI Manual</td>\n",
       "      <td>Mumbai</td>\n",
       "      <td>Petrol</td>\n",
       "      <td>1st Owner</td>\n",
       "      <td>50885</td>\n",
       "      <td>258599</td>\n",
       "    </tr>\n",
       "    <tr>\n",
       "      <th>3599</th>\n",
       "      <td>Maruti</td>\n",
       "      <td>Swift</td>\n",
       "      <td>2015</td>\n",
       "      <td>VXI Manual</td>\n",
       "      <td>Mumbai</td>\n",
       "      <td>Petrol</td>\n",
       "      <td>3rd Owner</td>\n",
       "      <td>59155</td>\n",
       "      <td>416299</td>\n",
       "    </tr>\n",
       "    <tr>\n",
       "      <th>3600</th>\n",
       "      <td>Maruti</td>\n",
       "      <td>Baleno</td>\n",
       "      <td>2019</td>\n",
       "      <td>ZETA 1.2 K12 Manual</td>\n",
       "      <td>Mumbai</td>\n",
       "      <td>Petrol</td>\n",
       "      <td>1st Owner</td>\n",
       "      <td>8848</td>\n",
       "      <td>713499</td>\n",
       "    </tr>\n",
       "  </tbody>\n",
       "</table>\n",
       "<p>3601 rows × 9 columns</p>\n",
       "</div>"
      ],
      "text/plain": [
       "        Brand      Model  Year                 Variant Location version  \\\n",
       "0     Hyundai  Grand i10  2015  SPORTZ 1.1 CRDI Manual    Noida  Diesel   \n",
       "1     Hyundai      VENUE  2021          S MT 1.2 KAPPA    Noida  Petrol   \n",
       "2     Hyundai        Eon  2015       MAGNA PLUS Manual    Noida  Petrol   \n",
       "3     Hyundai        i20  2013     ERA 1.4 CRDI Manual    Noida  Diesel   \n",
       "4     Hyundai  Grand i10  2015  SPORTS 1.2 VTVT Manual    Noida  Petrol   \n",
       "...       ...        ...   ...                     ...      ...     ...   \n",
       "3596   Maruti     Baleno  2016    DELTA 1.2 K12 Manual   Mumbai  Petrol   \n",
       "3597   Maruti   Alto 800  2015              LXI Manual   Mumbai  Petrol   \n",
       "3598   Maruti   Alto 800  2016              LXI Manual   Mumbai  Petrol   \n",
       "3599   Maruti      Swift  2015              VXI Manual   Mumbai  Petrol   \n",
       "3600   Maruti     Baleno  2019     ZETA 1.2 K12 Manual   Mumbai  Petrol   \n",
       "\n",
       "     Number of Owners  KmDriven   Price  \n",
       "0           1st Owner     29895  358999  \n",
       "1           1st Owner      2589  794699  \n",
       "2           1st Owner     14940  277699  \n",
       "3           1st Owner     32281  326899  \n",
       "4           1st Owner     26307  405999  \n",
       "...               ...       ...     ...  \n",
       "3596        2nd Owner     62591  456099  \n",
       "3597        1st Owner     57014  231799  \n",
       "3598        1st Owner     50885  258599  \n",
       "3599        3rd Owner     59155  416299  \n",
       "3600        1st Owner      8848  713499  \n",
       "\n",
       "[3601 rows x 9 columns]"
      ]
     },
     "execution_count": 35,
     "metadata": {},
     "output_type": "execute_result"
    }
   ],
   "source": [
    "df"
   ]
  },
  {
   "cell_type": "code",
   "execution_count": null,
   "metadata": {},
   "outputs": [],
   "source": []
  }
 ],
 "metadata": {
  "kernelspec": {
   "display_name": "Python 3",
   "language": "python",
   "name": "python3"
  },
  "language_info": {
   "codemirror_mode": {
    "name": "ipython",
    "version": 3
   },
   "file_extension": ".py",
   "mimetype": "text/x-python",
   "name": "python",
   "nbconvert_exporter": "python",
   "pygments_lexer": "ipython3",
   "version": "3.8.5"
  }
 },
 "nbformat": 4,
 "nbformat_minor": 4
}
